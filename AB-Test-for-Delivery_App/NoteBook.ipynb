{
 "cells": [
  {
   "cell_type": "code",
   "execution_count": 29,
   "id": "d3c1f2e2",
   "metadata": {},
   "outputs": [],
   "source": [
    "import numpy as np\n",
    "import pandas as pd\n",
    "from scipy.stats import levene, ttest_ind, mannwhitneyu\n",
    "from statsmodels.stats.power import TTestIndPower, tt_ind_solve_power\n",
    "import math\n",
    "import matplotlib.pyplot as plt"
   ]
  },
  {
   "cell_type": "code",
   "execution_count": 3,
   "id": "37e238ac",
   "metadata": {},
   "outputs": [
    {
     "data": {
      "text/html": [
       "<div>\n",
       "<style scoped>\n",
       "    .dataframe tbody tr th:only-of-type {\n",
       "        vertical-align: middle;\n",
       "    }\n",
       "\n",
       "    .dataframe tbody tr th {\n",
       "        vertical-align: top;\n",
       "    }\n",
       "\n",
       "    .dataframe thead th {\n",
       "        text-align: right;\n",
       "    }\n",
       "</style>\n",
       "<table border=\"1\" class=\"dataframe\">\n",
       "  <thead>\n",
       "    <tr style=\"text-align: right;\">\n",
       "      <th></th>\n",
       "      <th>Sample 1</th>\n",
       "      <th>Sample 2</th>\n",
       "    </tr>\n",
       "  </thead>\n",
       "  <tbody>\n",
       "    <tr>\n",
       "      <th>0</th>\n",
       "      <td>38.74</td>\n",
       "      <td>42.74</td>\n",
       "    </tr>\n",
       "    <tr>\n",
       "      <th>1</th>\n",
       "      <td>34.79</td>\n",
       "      <td>38.79</td>\n",
       "    </tr>\n",
       "    <tr>\n",
       "      <th>2</th>\n",
       "      <td>43.83</td>\n",
       "      <td>47.83</td>\n",
       "    </tr>\n",
       "    <tr>\n",
       "      <th>3</th>\n",
       "      <td>38.82</td>\n",
       "      <td>42.82</td>\n",
       "    </tr>\n",
       "    <tr>\n",
       "      <th>4</th>\n",
       "      <td>36.84</td>\n",
       "      <td>40.84</td>\n",
       "    </tr>\n",
       "  </tbody>\n",
       "</table>\n",
       "</div>"
      ],
      "text/plain": [
       "   Sample 1  Sample 2\n",
       "0     38.74     42.74\n",
       "1     34.79     38.79\n",
       "2     43.83     47.83\n",
       "3     38.82     42.82\n",
       "4     36.84     40.84"
      ]
     },
     "execution_count": 3,
     "metadata": {},
     "output_type": "execute_result"
    }
   ],
   "source": [
    "samples = pd.read_csv(\"artifacts/aa_test.csv\")\n",
    "samples.head()"
   ]
  },
  {
   "cell_type": "code",
   "execution_count": 4,
   "id": "dc49359c",
   "metadata": {},
   "outputs": [
    {
     "data": {
      "text/plain": [
       "(25, 2)"
      ]
     },
     "execution_count": 4,
     "metadata": {},
     "output_type": "execute_result"
    }
   ],
   "source": [
    "samples.shape"
   ]
  },
  {
   "cell_type": "code",
   "execution_count": 5,
   "id": "a8a199c9",
   "metadata": {},
   "outputs": [
    {
     "name": "stdout",
     "output_type": "stream",
     "text": [
      "Leven's test\n",
      "Test Statistic: 0.0\n",
      "P-Value: 1.0\n",
      "Reject null hypothesis: no\n",
      "Variance are equal: yes\n"
     ]
    }
   ],
   "source": [
    "statistic, p_value = levene(samples[\"Sample 1\"], samples[\"Sample 2\"])\n",
    "\n",
    "statistic_rounded = round(statistic, 3)\n",
    "p_value_rounded = round(p_value, 3)\n",
    "\n",
    "reject_null = (p_value_rounded <= 0.05)\n",
    "variances_equal = not reject_null\n",
    "\n",
    "print(\"Leven's test\")\n",
    "print(f\"Test Statistic: {statistic_rounded}\")\n",
    "print(f\"P-Value: {p_value_rounded}\")\n",
    "print(f\"Reject null hypothesis: {'yes' if reject_null else 'no'}\")\n",
    "print(f\"Variance are equal: {'yes' if variances_equal else 'no'}\")"
   ]
  },
  {
   "cell_type": "code",
   "execution_count": 6,
   "id": "ad0a92c1",
   "metadata": {},
   "outputs": [
    {
     "name": "stdout",
     "output_type": "stream",
     "text": [
      "T-test\n",
      "Test Statistic: -3.432\n",
      "P-Value: 0.001\n",
      "Reject null hypothesis: yes\n",
      "Means are equal: no\n"
     ]
    }
   ],
   "source": [
    "equal_variances = (p_value_rounded >= 0.05)\n",
    "\n",
    "t_stat, p_val = ttest_ind(samples[\"Sample 1\"], samples[\"Sample 2\"], equal_var=equal_variances)\n",
    "t_stat_rounded = round(t_stat, 3)\n",
    "p_val_rounded = round(p_val, 3)\n",
    "\n",
    "reject_null = p_val_rounded < 0.05\n",
    "means_equal = not reject_null\n",
    "\n",
    "print(\"T-test\")\n",
    "print(f\"Test Statistic: {t_stat_rounded}\")\n",
    "print(f\"P-Value: {p_val_rounded}\")\n",
    "print(f\"Reject null hypothesis: {'yes' if reject_null else 'no'}\")\n",
    "print(f\"Means are equal: {'yes' if means_equal else 'no'}\")"
   ]
  },
  {
   "cell_type": "code",
   "execution_count": 7,
   "id": "97e6bc34",
   "metadata": {},
   "outputs": [
    {
     "name": "stdout",
     "output_type": "stream",
     "text": [
      "Total Sample Size: 800\n"
     ]
    }
   ],
   "source": [
    "analysis = TTestIndPower()\n",
    "\n",
    "sample_size = analysis.solve_power(effect_size=0.2,\n",
    "                                   power=0.8,\n",
    "                                   alpha=0.05,\n",
    "                                   alternative=\"two-sided\"\n",
    ")\n",
    "total_sample_size = math.ceil(sample_size) * 2\n",
    "rounded = math.ceil(total_sample_size / 100) * 100\n",
    "\n",
    "print('Total Sample Size: %3.f' % rounded)"
   ]
  },
  {
   "cell_type": "code",
   "execution_count": 8,
   "id": "cfd4dce3",
   "metadata": {},
   "outputs": [
    {
     "name": "stdout",
     "output_type": "stream",
     "text": [
      "Total Sample Size: 800\n"
     ]
    }
   ],
   "source": [
    "smple_size = tt_ind_solve_power(effect_size=0.2,\n",
    "                                 power=0.8,\n",
    "                                 alpha=0.05,\n",
    "                                 alternative=\"two-sided\"\n",
    ")\n",
    "total_smple_size = math.ceil(smple_size) * 2\n",
    "rounded = math.ceil(total_smple_size / 100) * 100\n",
    "\n",
    "print('Total Sample Size: %3.f' % rounded)"
   ]
  },
  {
   "cell_type": "code",
   "execution_count": 9,
   "id": "4281931d",
   "metadata": {},
   "outputs": [
    {
     "data": {
      "text/html": [
       "<div>\n",
       "<style scoped>\n",
       "    .dataframe tbody tr th:only-of-type {\n",
       "        vertical-align: middle;\n",
       "    }\n",
       "\n",
       "    .dataframe tbody tr th {\n",
       "        vertical-align: top;\n",
       "    }\n",
       "\n",
       "    .dataframe thead th {\n",
       "        text-align: right;\n",
       "    }\n",
       "</style>\n",
       "<table border=\"1\" class=\"dataframe\">\n",
       "  <thead>\n",
       "    <tr style=\"text-align: right;\">\n",
       "      <th></th>\n",
       "      <th>session_id</th>\n",
       "      <th>group</th>\n",
       "      <th>date</th>\n",
       "      <th>session_duration</th>\n",
       "      <th>order_value</th>\n",
       "    </tr>\n",
       "  </thead>\n",
       "  <tbody>\n",
       "    <tr>\n",
       "      <th>0</th>\n",
       "      <td>5aaffadb-eb83-455c-9754-a17fc82dd80e</td>\n",
       "      <td>Control</td>\n",
       "      <td>2021-06-01</td>\n",
       "      <td>14.55</td>\n",
       "      <td>4.51</td>\n",
       "    </tr>\n",
       "    <tr>\n",
       "      <th>1</th>\n",
       "      <td>c1bf8b62-2058-49f0-b888-042357895e9b</td>\n",
       "      <td>Experimental</td>\n",
       "      <td>2021-06-01</td>\n",
       "      <td>15.20</td>\n",
       "      <td>78.26</td>\n",
       "    </tr>\n",
       "    <tr>\n",
       "      <th>2</th>\n",
       "      <td>32c312b8-56e2-4f5a-ab67-23a0ea31ade5</td>\n",
       "      <td>Control</td>\n",
       "      <td>2021-06-01</td>\n",
       "      <td>11.13</td>\n",
       "      <td>31.32</td>\n",
       "    </tr>\n",
       "    <tr>\n",
       "      <th>3</th>\n",
       "      <td>682bd25f-bd8c-49d9-b097-cde08b07b6f5</td>\n",
       "      <td>Control</td>\n",
       "      <td>2021-06-01</td>\n",
       "      <td>16.17</td>\n",
       "      <td>19.92</td>\n",
       "    </tr>\n",
       "    <tr>\n",
       "      <th>4</th>\n",
       "      <td>d7c675dd-9213-42e1-b3b7-758957f3f466</td>\n",
       "      <td>Experimental</td>\n",
       "      <td>2021-06-01</td>\n",
       "      <td>13.85</td>\n",
       "      <td>9.53</td>\n",
       "    </tr>\n",
       "  </tbody>\n",
       "</table>\n",
       "</div>"
      ],
      "text/plain": [
       "                             session_id         group        date  \\\n",
       "0  5aaffadb-eb83-455c-9754-a17fc82dd80e       Control  2021-06-01   \n",
       "1  c1bf8b62-2058-49f0-b888-042357895e9b  Experimental  2021-06-01   \n",
       "2  32c312b8-56e2-4f5a-ab67-23a0ea31ade5       Control  2021-06-01   \n",
       "3  682bd25f-bd8c-49d9-b097-cde08b07b6f5       Control  2021-06-01   \n",
       "4  d7c675dd-9213-42e1-b3b7-758957f3f466  Experimental  2021-06-01   \n",
       "\n",
       "   session_duration  order_value  \n",
       "0             14.55         4.51  \n",
       "1             15.20        78.26  \n",
       "2             11.13        31.32  \n",
       "3             16.17        19.92  \n",
       "4             13.85         9.53  "
      ]
     },
     "execution_count": 9,
     "metadata": {},
     "output_type": "execute_result"
    }
   ],
   "source": [
    "samples2 = pd.read_csv(\"artifacts/ab_test.csv\")\n",
    "samples2.head()"
   ]
  },
  {
   "cell_type": "code",
   "execution_count": 10,
   "id": "4f28437d",
   "metadata": {},
   "outputs": [
    {
     "data": {
      "text/plain": [
       "group\n",
       "Control         400\n",
       "Experimental    400\n",
       "Name: count, dtype: int64"
      ]
     },
     "execution_count": 10,
     "metadata": {},
     "output_type": "execute_result"
    }
   ],
   "source": [
    "samples2[\"group\"].value_counts()"
   ]
  },
  {
   "cell_type": "code",
   "execution_count": 23,
   "id": "8e29c20f",
   "metadata": {},
   "outputs": [
    {
     "data": {
      "image/png": "[encoded data removed]",
      "text/plain": [
       "<Figure size 1200x600 with 4 Axes>"
      ]
     },
     "metadata": {},
     "output_type": "display_data"
    }
   ],
   "source": [
    "cont_samples = samples2[samples2.group == \"Control\"]\n",
    "expe_samples = samples2[samples2.group == \"Experimental\"]\n",
    "\n",
    "fig, axes = plt.subplots(2, 2, figsize=(12,6))\n",
    "\n",
    "axes[0, 0].hist(x=cont_samples[\"session_duration\"], bins=50)\n",
    "axes[0, 0].set_title(\"Control Group - Histogram\")\n",
    "\n",
    "axes[1, 0].boxplot(x=cont_samples[\"session_duration\"], vert=False)\n",
    "axes[1, 0].set_title(\"Control Group - Boxplot\")\n",
    "\n",
    "axes[0, 1].hist(expe_samples[\"session_duration\"], bins=50)\n",
    "axes[0, 1].set_title(\"Experimental Group - Histogram\")\n",
    "\n",
    "axes[1, 1].boxplot(expe_samples[\"session_duration\"], vert=False)\n",
    "axes[1, 1].set_title(\"Experimental Group - Boxplot\")\n",
    "\n",
    "fig.suptitle(\"Session Duration Distribution: Control vs Experimental Groups\", fontsize=16)\n",
    "\n",
    "plt.tight_layout()\n",
    "plt.show()"
   ]
  },
  {
   "cell_type": "code",
   "execution_count": 22,
   "id": "8b5e24f8",
   "metadata": {},
   "outputs": [
    {
     "data": {
      "image/png": "[encoded data removed]",
      "text/plain": [
       "<Figure size 1200x600 with 4 Axes>"
      ]
     },
     "metadata": {},
     "output_type": "display_data"
    }
   ],
   "source": [
    "fig, axes = plt.subplots(2, 2, figsize=(12,6))\n",
    "\n",
    "axes[0, 0].hist(x=cont_samples[\"order_value\"], bins=50)\n",
    "axes[0, 0].set_title(\"Control Group - Histogram\")\n",
    "\n",
    "axes[1, 0].boxplot(x=cont_samples[\"order_value\"], vert=False)\n",
    "axes[1, 0].set_title(\"Control Group - Boxplot\")\n",
    "\n",
    "axes[0, 1].hist(expe_samples[\"order_value\"], bins=50)\n",
    "axes[0, 1].set_title(\"Experimental Group - Histogram\")\n",
    "\n",
    "axes[1, 1].boxplot(expe_samples[\"order_value\"], vert=False)\n",
    "axes[1, 1].set_title(\"Experimental Group - Boxplot\")\n",
    "\n",
    "fig.suptitle(\"Order Value Distribution: Control vs Experimental Groups\", fontsize=16)\n",
    "\n",
    "plt.tight_layout()\n",
    "plt.show()"
   ]
  },
  {
   "cell_type": "code",
   "execution_count": 25,
   "id": "c21f3d75",
   "metadata": {},
   "outputs": [
    {
     "name": "stdout",
     "output_type": "stream",
     "text": [
      "Order Value (cleaned data):\n",
      "Mean: 37.61\n",
      "Standard Deviation: 53.78\n",
      "Maximum: 769.32\n"
     ]
    }
   ],
   "source": [
    "order_value_99th = np.percentile(samples2[\"order_value\"], 99)\n",
    "session_duration_99th = np.percentile(samples2[\"session_duration\"], 99)\n",
    "\n",
    "filtered_samples = samples2[\n",
    "    (samples2.order_value <= order_value_99th) &\n",
    "    (samples2.session_duration <= session_duration_99th)\n",
    "]\n",
    "\n",
    "mean_order_value = round(samples2[\"order_value\"].mean(), 2)\n",
    "std_order_value = round(samples2[\"order_value\"].std(), 2)\n",
    "max_order_value = round(samples2[\"order_value\"].max(), 2)\n",
    "\n",
    "print(\"Order Value (cleaned data):\")\n",
    "print(f\"Mean: {mean_order_value}\")\n",
    "print(f\"Standard Deviation: {std_order_value}\")\n",
    "print(f\"Maximum: {max_order_value}\")"
   ]
  },
  {
   "cell_type": "code",
   "execution_count": null,
   "id": "9e4bf73b",
   "metadata": {},
   "outputs": [
    {
     "name": "stdout",
     "output_type": "stream",
     "text": [
      "U-Test\n",
      "Statistics: 60612.0\n",
      "P Value: 0.0\n",
      "Reject null hypothesis: yes\n",
      "Distributions are equal: no\n",
      "Control Median Order Value: 20.41\n",
      "Experimental Median Order Value: 26.71\n"
     ]
    }
   ],
   "source": [
    "exper_filtered_smples = filtered_samples[filtered_samples.group == \"Experimental\"]\n",
    "contr_filtered_smples = filtered_samples[filtered_samples.group == \"Control\"]\n",
    "\n",
    "stats, p_vl = mannwhitneyu(\n",
    "    contr_filtered_smples[\"order_value\"],\n",
    "    exper_filtered_smples[\"order_value\"],\n",
    "    alternative=\"two-sided\"\n",
    ")\n",
    "\n",
    "rounded_stats = round(stats, 3)\n",
    "rounded_p_vl = round(p_vl, 3)\n",
    "\n",
    "reject_null = (rounded_p_vl <= 0.05)\n",
    "same_distro = not reject_null\n",
    "\n",
    "print(\"U-Test\")\n",
    "print(f\"Statistics: {rounded_stats}\")\n",
    "print(f\"P Value: {rounded_p_vl}\")\n",
    "print(f\"Reject null hypothesis: {'yes' if reject_null else 'no'}\")\n",
    "print(f\"Distributions are equal: {'yes' if same_distro else 'no'}\")\n",
    "print(f\"Control Median Order Value: {contr_filtered_smples['order_value'].median():.2f}\")\n",
    "print(f\"Experimental Median Order Value: {exper_filtered_smples['order_value'].median():.2f}\")"
   ]
  },
  {
   "cell_type": "code",
   "execution_count": 35,
   "id": "d391e61c",
   "metadata": {},
   "outputs": [
    {
     "name": "stderr",
     "output_type": "stream",
     "text": [
      "C:\\Users\\Mahdi\\AppData\\Local\\Temp\\ipykernel_12112\\664493448.py:1: SettingWithCopyWarning: \n",
      "A value is trying to be set on a copy of a slice from a DataFrame.\n",
      "Try using .loc[row_indexer,col_indexer] = value instead\n",
      "\n",
      "See the caveats in the documentation: https://pandas.pydata.org/pandas-docs/stable/user_guide/indexing.html#returning-a-view-versus-a-copy\n",
      "  filtered_samples[\"order_value\"] = np.log(filtered_samples[\"order_value\"])\n"
     ]
    },
    {
     "data": {
      "text/plain": [
       "<Axes: ylabel='Frequency'>"
      ]
     },
     "execution_count": 35,
     "metadata": {},
     "output_type": "execute_result"
    },
    {
     "data": {
      "image/png": "[encoded data removed]",
      "text/plain": [
       "<Figure size 640x480 with 1 Axes>"
      ]
     },
     "metadata": {},
     "output_type": "display_data"
    }
   ],
   "source": [
    "filtered_samples[\"order_value\"] = np.log(filtered_samples[\"order_value\"])\n",
    "filtered_samples[\"order_value\"].plot(bins=30, kind=\"hist\")"
   ]
  },
  {
   "cell_type": "code",
   "execution_count": 36,
   "id": "0bd0394c",
   "metadata": {},
   "outputs": [
    {
     "name": "stdout",
     "output_type": "stream",
     "text": [
      "Leven's test\n",
      "Test Statistic: 47.954\n",
      "P-Value: 0.0\n",
      "Reject null hypothesis: yes\n",
      "Variance are equal: no\n"
     ]
    }
   ],
   "source": [
    "exp_filtered_smples = filtered_samples[filtered_samples.group == \"Experimental\"]\n",
    "co_filtered_smples = filtered_samples[filtered_samples.group == \"Control\"]\n",
    "\n",
    "st, p = levene(\n",
    "    exp_filtered_smples.order_value,\n",
    "    co_filtered_smples.order_value\n",
    ")\n",
    "rounded_st = round(st, 3)\n",
    "rounded_p = round(p, 3)\n",
    "\n",
    "reject_null = (rounded_p <= 0.05)\n",
    "equal_variance = not reject_null\n",
    "\n",
    "print(\"Leven's test\")\n",
    "print(f\"Test Statistic: {rounded_st}\")\n",
    "print(f\"P-Value: {rounded_p}\")\n",
    "print(f\"Reject null hypothesis: {'yes' if reject_null else 'no'}\")\n",
    "print(f\"Variance are equal: {'yes' if equal_variance else 'no'}\")"
   ]
  },
  {
   "cell_type": "code",
   "execution_count": 38,
   "id": "eadf2d0a",
   "metadata": {},
   "outputs": [
    {
     "name": "stdout",
     "output_type": "stream",
     "text": [
      "T-test\n",
      "Test Statistic: 6.725\n",
      "P-Value: 0.0\n",
      "Reject null hypothesis: yes\n",
      "Means are equal: no\n"
     ]
    }
   ],
   "source": [
    "stat, p_vle = ttest_ind(\n",
    "    exp_filtered_smples.order_value,\n",
    "    co_filtered_smples.order_value,\n",
    "    equal_var=equal_variance\n",
    ")\n",
    "\n",
    "rounded_stat = round(stat, 3)\n",
    "rounded_p_value = round(p_vle, 3)\n",
    "\n",
    "reject_null = (rounded_p_value <= 0.05)\n",
    "equal_mean = not reject_null\n",
    "\n",
    "print(\"T-test\")\n",
    "print(f\"Test Statistic: {rounded_stat}\")\n",
    "print(f\"P-Value: {rounded_p_value}\")\n",
    "print(f\"Reject null hypothesis: {'yes' if reject_null else 'no'}\")\n",
    "print(f\"Means are equal: {'yes' if equal_mean else 'no'}\")"
   ]
  }
 ],
 "metadata": {
  "kernelspec": {
   "display_name": "Python (data analysis)",
   "language": "python",
   "name": "your-env-name"
  },
  "language_info": {
   "codemirror_mode": {
    "name": "ipython",
    "version": 3
   },
   "file_extension": ".py",
   "mimetype": "text/x-python",
   "name": "python",
   "nbconvert_exporter": "python",
   "pygments_lexer": "ipython3",
   "version": "3.12.8"
  }
 },
 "nbformat": 4,
 "nbformat_minor": 5
}
